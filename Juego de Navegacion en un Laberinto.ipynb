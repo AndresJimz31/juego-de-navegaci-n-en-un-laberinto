{
 "cells": [
  {
   "cell_type": "markdown",
   "id": "d7bf2362",
   "metadata": {},
   "source": [
    "# Juego de navegacion por el laberingo"
   ]
  },
  {
   "cell_type": "code",
   "execution_count": 5,
   "id": "3e7ecc11",
   "metadata": {},
   "outputs": [],
   "source": [
    "# Librerías necesarias para todo el ejercicio\n",
    "import numpy as np\n",
    "import matplotlib.pyplot as plt\n",
    "import random"
   ]
  },
  {
   "cell_type": "code",
   "execution_count": 7,
   "id": "6370346d",
   "metadata": {},
   "outputs": [],
   "source": [
    "# Función para crear el laberinto\n",
    "def crear_laberinto(tamanio, porcentaje_paredes=20, inicio=(0, 0), meta=None):\n",
    "    laberinto = np.zeros((tamanio, tamanio))\n",
    "    numero_paredes = int((tamanio * tamanio) * porcentaje_paredes / 100)\n",
    "    \n",
    "    # Ubicar paredes\n",
    "    for pared in range(numero_paredes):\n",
    "        x, y = random.randint(0, tamanio-1), random.randint(0, tamanio-1)\n",
    "        \n",
    "        # Cuidar que inicio y meta no sean paredes\n",
    "        if (x, y) != inicio and (meta is None or (x, y) != meta):\n",
    "            laberinto[x, y] = 1\n",
    "            \n",
    "    # Ubicar la meta\n",
    "    if meta:\n",
    "        laberinto[meta] = 9  # Representa la meta con 9\n",
    "    else:\n",
    "        # Ubicar la meta aleatoriamente si no está especificado\n",
    "        while True:\n",
    "            x, y = random.randint(0, tamanio-1), random.randint(0, tamanio-1)\n",
    "            if laberinto[x, y] == 0 and (x, y) != inicio:\n",
    "                laberinto[x, y] = 9\n",
    "                break\n",
    "    \n",
    "    return laberinto"
   ]
  },
  {
   "cell_type": "code",
   "execution_count": 9,
   "id": "6c648cc8",
   "metadata": {},
   "outputs": [],
   "source": [
    "# Función para visualizar el laberinto\n",
    "def ver_laberinto(laberinto):\n",
    "    plt.figure(figsize=(5, 5))\n",
    "    plt.imshow(laberinto, cmap='Greens', interpolation='nearest')\n",
    "    plt.colorbar();"
   ]
  },
  {
   "cell_type": "code",
   "execution_count": 11,
   "id": "10e052cc",
   "metadata": {},
   "outputs": [
    {
     "data": {
      "image/png": "[encoded data removed]",
      "text/plain": [
       "<Figure size 500x500 with 2 Axes>"
      ]
     },
     "metadata": {},
     "output_type": "display_data"
    }
   ],
   "source": [
    "# Ejemplo de crear y mostrar laberintos\n",
    "laberinto = crear_laberinto(10, 20, inicio=(0, 0), meta=(9, 9))\n",
    "ver_laberinto(laberinto)"
   ]
  },
  {
   "cell_type": "markdown",
   "id": "695fd102",
   "metadata": {},
   "source": [
    "##### 1. Parámetros para el algoritmo Q-Learning"
   ]
  },
  {
   "cell_type": "code",
   "execution_count": 14,
   "id": "a7edb205",
   "metadata": {},
   "outputs": [],
   "source": [
    "alpha = 0.1  # Tasa de aprendizaje\n",
    "gamma = 0.9  # Factor de descuento\n",
    "epsilon = 0.1  # Probabilidad de exploración\n",
    "num_episodios = 500  # Número de episodios para entrenar"
   ]
  },
  {
   "cell_type": "markdown",
   "id": "e4c89e48",
   "metadata": {},
   "source": [
    "##### 2. Función para elegir acciones equilibrando entre explotación y exploración"
   ]
  },
  {
   "cell_type": "code",
   "execution_count": 17,
   "id": "3de89d10",
   "metadata": {},
   "outputs": [],
   "source": [
    "def epsilon_codicioso(Q, estado, tamanio_estado):\n",
    "    if random.uniform(0, 1) < epsilon:\n",
    "        return random.randint(0, 3)  # Suponemos 4 acciones posibles: arriba, abajo, izquierda, derecha\n",
    "    else:\n",
    "        return np.argmax(Q[estado])"
   ]
  },
  {
   "cell_type": "markdown",
   "id": "762c9070",
   "metadata": {},
   "source": [
    "##### 3. Función para simular la acción en el laberinto"
   ]
  },
  {
   "cell_type": "code",
   "execution_count": 20,
   "id": "3c3e717e",
   "metadata": {},
   "outputs": [],
   "source": [
    "def ejecutar_accion(estado, accion, laberinto, tamanio):\n",
    "    fila, columna = divmod(estado, tamanio)\n",
    "    if accion == 0 and fila > 0:  # arriba\n",
    "        fila -= 1\n",
    "    elif accion == 1 and fila < tamanio - 1:  # abajo\n",
    "        fila += 1\n",
    "    elif accion == 2 and columna > 0:  # izquierda\n",
    "        columna -= 1\n",
    "    elif accion == 3 and columna < tamanio - 1:  # derecha\n",
    "        columna += 1\n",
    "    \n",
    "    siguiente_estado = fila * tamanio + columna\n",
    "    if laberinto[fila, columna] == 1:\n",
    "        recompensa = -100  # Penalización por golpear un muro\n",
    "        siguiente_estado = estado  # El agente permanece en el mismo lugar si golpea un muro\n",
    "        terminado = False\n",
    "    elif laberinto[fila, columna] == 9:\n",
    "        recompensa = 100  # Recompensa por alcanzar el objetivo\n",
    "        terminado = True\n",
    "    else:\n",
    "        recompensa = -1  # Penalización menor por cada paso para fomentar soluciones más rápidas\n",
    "        terminado = False\n",
    "    return siguiente_estado, recompensa, terminado"
   ]
  },
  {
   "cell_type": "markdown",
   "id": "a4f2511c",
   "metadata": {},
   "source": [
    "##### 4. Función principal para ejecutar el algoritmo Q-Learning"
   ]
  },
  {
   "cell_type": "code",
   "execution_count": 23,
   "id": "2894d6eb",
   "metadata": {},
   "outputs": [],
   "source": [
    "def q_learning(laberinto, tamanio, inicio, meta):\n",
    "    Q = np.zeros((tamanio * tamanio, 4))  # Inicializa la tabla Q para todos los estados y acciones\n",
    "    for episodio in range(num_episodios):\n",
    "        estado = inicio\n",
    "        terminado = False\n",
    "        \n",
    "        while not terminado:\n",
    "            accion = epsilon_codicioso(Q, estado, tamanio)\n",
    "            siguiente_estado, recompensa, terminado = ejecutar_accion(estado, accion, laberinto, tamanio)\n",
    "            Q[estado, accion] += alpha * (recompensa + gamma * max(Q[siguiente_estado]) - Q[estado, accion])\n",
    "            estado = siguiente_estado\n",
    "            \n",
    "    return Q"
   ]
  },
  {
   "cell_type": "markdown",
   "id": "f2b0a8d0",
   "metadata": {},
   "source": [
    "##### 5. Función para convertir coordenadas a índice lineal"
   ]
  },
  {
   "cell_type": "code",
   "execution_count": 26,
   "id": "8e07a776",
   "metadata": {},
   "outputs": [],
   "source": [
    "def index_posicion(posicion, tamanio):\n",
    "    return posicion[0] * tamanio + posicion[1]"
   ]
  },
  {
   "cell_type": "markdown",
   "id": "c57d0c88",
   "metadata": {},
   "source": [
    "##### 6. Iniciar el laberinto y configurar el algoritmo Q-Learning"
   ]
  },
  {
   "cell_type": "code",
   "execution_count": 29,
   "id": "2489de03",
   "metadata": {},
   "outputs": [],
   "source": [
    "tamanio = 10\n",
    "posicion_inicio = (0, 0)\n",
    "posicion_meta = (9, 9)\n",
    "laberinto = crear_laberinto(tamanio, 20, inicio=posicion_inicio, meta=posicion_meta)\n",
    "inicio = index_posicion(posicion_inicio, tamanio)\n",
    "meta = index_posicion(posicion_meta, tamanio)\n",
    "valores_Q = q_learning(laberinto, tamanio, inicio, meta)"
   ]
  },
  {
   "cell_type": "markdown",
   "id": "922ded6f",
   "metadata": {},
   "source": [
    "##### 7. Función para mostrar el aprendizaje del agente"
   ]
  },
  {
   "cell_type": "code",
   "execution_count": 32,
   "id": "308cb3cf",
   "metadata": {},
   "outputs": [],
   "source": [
    "def mostrar_ruta_aprendida(laberinto, Q, inicio, meta, tamanio):\n",
    "    fila, columna = divmod(inicio, tamanio)\n",
    "    ruta = [(fila, columna)]\n",
    "    estado = inicio\n",
    "    while estado != meta:\n",
    "        accion = np.argmax(Q[estado])\n",
    "        estado, _, _ = ejecutar_accion(estado, accion, laberinto, tamanio)\n",
    "        fila, columna = divmod(estado, tamanio)\n",
    "        ruta.append((fila, columna))\n",
    "    \n",
    "    # Mostrar el camino aprendido sobre el laberinto\n",
    "    plt.figure(figsize=(5, 5))\n",
    "    plt.imshow(laberinto, cmap='Greens', interpolation='nearest')\n",
    "    filas, columnas = zip(*ruta)\n",
    "    plt.plot(columnas, filas, marker='o', color='b')\n",
    "    plt.colorbar();"
   ]
  },
  {
   "cell_type": "markdown",
   "id": "88dde0b9",
   "metadata": {},
   "source": [
    "##### 8. Visualizar el resultado"
   ]
  },
  {
   "cell_type": "code",
   "execution_count": 35,
   "id": "c7b564ed",
   "metadata": {
    "scrolled": true
   },
   "outputs": [
    {
     "data": {
      "image/png": "[encoded data removed]",
      "text/plain": [
       "<Figure size 500x500 with 2 Axes>"
      ]
     },
     "metadata": {},
     "output_type": "display_data"
    }
   ],
   "source": [
    "mostrar_ruta_aprendida(laberinto, valores_Q, inicio, meta, tamanio)\n"
   ]
  },
  {
   "cell_type": "code",
   "execution_count": null,
   "id": "fb3874b2",
   "metadata": {},
   "outputs": [],
   "source": []
  }
 ],
 "metadata": {
  "kernelspec": {
   "display_name": "Python 3 (ipykernel)",
   "language": "python",
   "name": "python3"
  },
  "language_info": {
   "codemirror_mode": {
    "name": "ipython",
    "version": 3
   },
   "file_extension": ".py",
   "mimetype": "text/x-python",
   "name": "python",
   "nbconvert_exporter": "python",
   "pygments_lexer": "ipython3",
   "version": "3.12.4"
  }
 },
 "nbformat": 4,
 "nbformat_minor": 5
}
